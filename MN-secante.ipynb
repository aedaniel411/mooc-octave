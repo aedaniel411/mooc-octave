{
 "cells": [
  {
   "cell_type": "markdown",
   "id": "669ac165-0c2e-4c13-b414-8c373a152bd2",
   "metadata": {
    "tags": []
   },
   "source": [
    "# Método de la secante\n",
    "Método abierto"
   ]
  },
  {
   "cell_type": "markdown",
   "id": "c2cddb59-7bf6-46dc-8fc6-f4fa6064b7cd",
   "metadata": {
    "tags": []
   },
   "source": [
    "Representación gráfica del método de la secante. Esta técnica es similar a la del método de Newton-Raphson en el sentido de que una aproximación de la raíz se predice extrapolando una tangente de la función hasta el eje x. Sin embargo, el método de la secante usa una diferencia dividida en lugar de una derivada para estimar la pendiente."
   ]
  },
  {
   "cell_type": "markdown",
   "id": "5c17a536-be8d-460a-b76d-843deb09f6d7",
   "metadata": {},
   "source": [
    "![](img/secante01.png)"
   ]
  },
  {
   "cell_type": "markdown",
   "id": "fbd1d402-f4ba-4a05-b574-5d76060179f4",
   "metadata": {},
   "source": [
    "$$ x_{i+1} = x_i - \\frac{f(x_i)(x_{i-1}-x_i) }{ f(x_{i-1})-f(x_i) } $$"
   ]
  },
  {
   "cell_type": "markdown",
   "id": "0b056022-667a-473c-8f43-22870f313ebe",
   "metadata": {},
   "source": [
    "Al sustituir:\n",
    "$$x_a \\leftarrow x_i \\text{;actual}\\\\\n",
    "x_b \\leftarrow x_{i-1} \\text{;anterior}$$\n",
    "Obtenemos:\n",
    "$$ x_{r} = x_a - \\frac{f(x_a)(x_{b}-x_a) }{ f(x_{b})-f(x_a) } $$"
   ]
  },
  {
   "cell_type": "code",
   "execution_count": 1,
   "id": "62c6cd0e-cd56-4731-bba9-c5d9855679c0",
   "metadata": {},
   "outputs": [],
   "source": [
    "function xr = f(x)\n",
    "    xr = exp(-x)-x;\n",
    "end\n",
    "\n",
    "function xr = msec(xa, xb)\n",
    "    xr = xa - ((f(xa) * (xb - xa)) / (f(xb) - f(xa)));\n",
    "end"
   ]
  },
  {
   "cell_type": "markdown",
   "id": "bb6b4c30-cfec-45d5-9412-f61140e22925",
   "metadata": {},
   "source": [
    "## Problema. \n",
    "Con el método de la secante calcule la raíz de $f(x) = e^{–x}–x$. Comience con los valores iniciales $x_{–1} = 0$ y $x_0 = 1.0$.\n",
    "La raíz real es 0.56714329..."
   ]
  },
  {
   "cell_type": "code",
   "execution_count": 2,
   "id": "107b31a7-e497-4846-aabd-b969adb82c43",
   "metadata": {},
   "outputs": [
    {
     "data": {
      "image/png": "[encoded data removed]",
      "text/plain": [
       "<IPython.core.display.Image object>"
      ]
     },
     "metadata": {},
     "output_type": "display_data"
    }
   ],
   "source": [
    "x = linspace(0,1);\n",
    "y = f(x);\n",
    "plot(x,y);"
   ]
  },
  {
   "cell_type": "code",
   "execution_count": 3,
   "id": "e144bd89-9811-4e8f-b8e5-f966599116c9",
   "metadata": {},
   "outputs": [
    {
     "name": "stdout",
     "output_type": "stream",
     "text": [
      "0 1.000000 0.000000 0.612700 -0.070814 \n",
      "1 0.612700 1.000000 0.563838 0.005182 \n",
      "2 0.563838 0.612700 0.567170 -0.000042 \n",
      "3 0.567170 0.563838 0.567143 -0.000000 \n",
      "Tolerancia\n"
     ]
    }
   ],
   "source": [
    "xb = 0;\n",
    "xa = 1.0;\n",
    "\n",
    "tol = 0.00001;\n",
    "i = 0;\n",
    "imax = 10;\n",
    "\n",
    "while true\n",
    "    x = msec(xa, xb);\n",
    "%--imprimir datos en pantalla\n",
    "    printf (\"%d %f %f %f %f \\n\", i, xa, xb, x, f(x));\n",
    "%--preparar siguiente iteracion\n",
    "    xb = xa;\n",
    "    xa = x;\n",
    "    i = i + 1;\n",
    "    \n",
    "%-- condiciones de salida\n",
    "    if i > imax\n",
    "        disp(\"imax alcanzada\");\n",
    "        break;\n",
    "    end\n",
    "    if (f(x) == 0)\n",
    "        disp(\"Solución\");\n",
    "        break;\n",
    "    end\n",
    "    if (abs(f(x)) <= tol)\n",
    "        disp(\"Tolerancia\");\n",
    "        break;\n",
    "    end\n",
    "%    if (Et <= 0.01)\n",
    "%        break;\n",
    "%end\n",
    "end"
   ]
  },
  {
   "cell_type": "code",
   "execution_count": 4,
   "id": "6143453a-cc84-4b62-9b94-0e69e7d69343",
   "metadata": {},
   "outputs": [
    {
     "name": "stdout",
     "output_type": "stream",
     "text": [
      "imax = 10\n",
      "0 0.000000 1.000000 0.612700 -0.070814 \n",
      "1 0.000000 0.612700 0.572181 -0.007888 \n",
      "2 0.000000 0.572181 0.567703 -0.000877 \n",
      "3 0.000000 0.567703 0.567206 -0.000098 \n",
      "4 0.000000 0.567206 0.567150 -0.000011 \n",
      "5 0.000000 0.567150 0.567144 -0.000001 \n"
     ]
    }
   ],
   "source": [
    "\n",
    "a = 0;\n",
    "b = 1.0;\n",
    "\n",
    "tol = 0.00001;\n",
    "i = 0;\n",
    "imax = 10\n",
    "\n",
    "while true\n",
    "    x = msec(a, b);\n",
    "%--imprimir datos en pantalla\n",
    "    printf (\"%d %f %f %f %f \\n\", i, a, b, x, f(x));\n",
    "%--preparar siguiente iteracion\n",
    "   if (f(a) * f(x)) < 0\n",
    "       b = x;\n",
    "   else\n",
    "       a = x;\n",
    "   end\n",
    "   \n",
    "    i += 1;\n",
    "    \n",
    "%-- condiciones de salida\n",
    "    if i > imax\n",
    "        disp(\"imax alcanzada\");\n",
    "        break;\n",
    "    end\n",
    "    if (f(x) == 0)\n",
    "        break;\n",
    "    end\n",
    "    if (abs(f(x)) <= tol)\n",
    "        break;\n",
    "    end\n",
    "%    if (Et <= 0.01)\n",
    "%        break;\n",
    "%end\n",
    "end"
   ]
  },
  {
   "cell_type": "code",
   "execution_count": null,
   "id": "d77169f8-d8cc-423e-8edf-0bb594909a7f",
   "metadata": {},
   "outputs": [],
   "source": []
  },
  {
   "cell_type": "markdown",
   "id": "be5f380e-0d2e-4e3b-b125-8a3b89bbf771",
   "metadata": {},
   "source": [
    "## Comparación con falsa posición"
   ]
  },
  {
   "cell_type": "markdown",
   "id": "30343fa8-c229-47b6-b4ef-efd89bd56e1b",
   "metadata": {},
   "source": [
    "![](img/secante02.png)"
   ]
  },
  {
   "cell_type": "markdown",
   "id": "0001488c-a6e5-485b-a3ec-71c832663bc0",
   "metadata": {},
   "source": [
    "Comparación entre los métodos de la falsa posición y de la secante. Las primeras iteraciones a) y b) de ambos métodos son idénticas. No obstante, en las segundas iteraciones c) y d), los puntos usados son diferentes. En consecuencia, el método de la secante llega a diverger, como se indica en d)."
   ]
  },
  {
   "cell_type": "markdown",
   "id": "225daa3c-980b-4e0f-b325-1029a137f186",
   "metadata": {},
   "source": [
    "### Problema \n",
    "Utilice los métodos de la secante y de la falsa posición para calcular la raíz de $f(x) = ln x$. Empiece los cálculos con los valores iniciales $x_l = x_i –1 = 0.5$ y $x_u = x_i = 5.0$."
   ]
  },
  {
   "cell_type": "code",
   "execution_count": null,
   "id": "7cea8084-6b42-40f8-9a8b-03318a3ec83f",
   "metadata": {},
   "outputs": [],
   "source": []
  },
  {
   "cell_type": "code",
   "execution_count": null,
   "id": "5a86de8b-f439-48ad-8722-96f5407e8321",
   "metadata": {},
   "outputs": [],
   "source": []
  }
 ],
 "metadata": {
  "kernelspec": {
   "display_name": "Octave",
   "language": "octave",
   "name": "octave"
  },
  "language_info": {
   "file_extension": ".m",
   "help_links": [
    {
     "text": "GNU Octave",
     "url": "https://www.gnu.org/software/octave/support.html"
    },
    {
     "text": "Octave Kernel",
     "url": "https://github.com/Calysto/octave_kernel"
    },
    {
     "text": "MetaKernel Magics",
     "url": "https://metakernel.readthedocs.io/en/latest/source/README.html"
    }
   ],
   "mimetype": "text/x-octave",
   "name": "octave",
   "version": "6.4.0"
  }
 },
 "nbformat": 4,
 "nbformat_minor": 5
}
